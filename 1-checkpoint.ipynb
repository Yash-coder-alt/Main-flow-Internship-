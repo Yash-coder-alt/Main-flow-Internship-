{
 "cells": [
  {
   "cell_type": "code",
   "execution_count": 16,
   "id": "5547e20f-4fb2-4fbd-ac80-1e893ffa398f",
   "metadata": {},
   "outputs": [
    {
     "name": "stdout",
     "output_type": "stream",
     "text": [
      "a\n",
      "-----------------------------------------------------------------------------------------------------------------------------------------\n",
      "-----------------------------------------------------------------------------------------------------------------------------------------\n",
      "5\n",
      "Hello World!\n",
      "3.0\n",
      "-----------------------------------------------------------------------------------------------------------------------------------------\n",
      "<class 'int'>\n",
      "<class 'str'>\n",
      "<class 'float'>\n",
      "-----------------------------------------------------------------------------------------------------------------------------------------\n"
     ]
    }
   ],
   "source": [
    "###Python syntax\n",
    "print(\"a\")\n",
    "print(\"-----------------------------------------------------------------------------------------------------------------------------------------\")\n",
    "###This is a comment\n",
    "#print(\"Hello, World!\")\n",
    "\n",
    "###Variables in Python\n",
    "\n",
    "x = 5                 # x is of type int\n",
    "y = \"Hello World!\"    # y is of type str\n",
    "z = float(3)          # z will be 3.0\n",
    "print(x)\n",
    "print(y)\n",
    "print(z)\n",
    "print(\"-----------------------------------------------------------------------------------------------------------------------------------------\")\n",
    "#finding what type of variable \n",
    "\n",
    "print(type(x))\n",
    "print(type(y))\n",
    "print(type(z))\n",
    "print(\"-----------------------------------------------------------------------------------------------------------------------------------------\")\n",
    "\n",
    "\n",
    "\n"
   ]
  },
  {
   "cell_type": "code",
   "execution_count": null,
   "id": "be1c03ed-8ad4-44c6-b8a4-4562337d2a8f",
   "metadata": {},
   "outputs": [],
   "source": []
  }
 ],
 "metadata": {
  "kernelspec": {
   "display_name": "Python 3 (ipykernel)",
   "language": "python",
   "name": "python3"
  },
  "language_info": {
   "codemirror_mode": {
    "name": "ipython",
    "version": 3
   },
   "file_extension": ".py",
   "mimetype": "text/x-python",
   "name": "python",
   "nbconvert_exporter": "python",
   "pygments_lexer": "ipython3",
   "version": "3.12.4"
  }
 },
 "nbformat": 4,
 "nbformat_minor": 5
}
