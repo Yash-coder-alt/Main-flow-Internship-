{
 "cells": [
  {
   "cell_type": "code",
   "execution_count": null,
   "id": "db989957-31ba-4bee-8ec7-59ba4826dd18",
   "metadata": {
    "jp-MarkdownHeadingCollapsed": true
   },
   "outputs": [],
   "source": [
    "###Code for practicing Arithmetic operations ,loops and conditional statements\n",
    "\n",
    "for c in range(2):\n",
    "    num1=int(input(\"Enter first number: \"))\n",
    "    num2=int(input(\"Enter secong number: \"))\n",
    "    c=int(input(\"Enter arithmetic operations(1-4): \"))\n",
    "    if c==1:\n",
    "        sum=num1+num2;\n",
    "        print(\"Addition of num1 and num 2 is: \",sum)\n",
    "    elif c==2:\n",
    "        diff=num1-num2;\n",
    "        print(\"Difference of num1 and num 2 is: \",diff) \n",
    "    elif c==3:\n",
    "        mul=num1*num2;\n",
    "        print(\"Product of num1 and num2 is: \",mul)\n",
    "    elif c==4:\n",
    "        if num2!=0:\n",
    "            div=num1/num2;\n",
    "            print(\"Quotient of num1 and num2 is: \",div)\n",
    "        else:\n",
    "            print(\"Cannot Divide by zero\")\n",
    "    else:\n",
    "        print(\"Invalid input ,Please enter a number between 1 and 4.\")\n",
    "print(\"Execution completed!\")    "
   ]
  },
  {
   "cell_type": "code",
   "execution_count": null,
   "id": "69e9ece8-66da-48e3-87c4-5a67f8641284",
   "metadata": {},
   "outputs": [],
   "source": []
  }
 ],
 "metadata": {
  "kernelspec": {
   "display_name": "Python 3 (ipykernel)",
   "language": "python",
   "name": "python3"
  },
  "language_info": {
   "codemirror_mode": {
    "name": "ipython",
    "version": 3
   },
   "file_extension": ".py",
   "mimetype": "text/x-python",
   "name": "python",
   "nbconvert_exporter": "python",
   "pygments_lexer": "ipython3",
   "version": "3.12.4"
  }
 },
 "nbformat": 4,
 "nbformat_minor": 5
}
